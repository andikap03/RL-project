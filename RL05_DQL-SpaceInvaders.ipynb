{
 "cells": [
  {
   "cell_type": "markdown",
   "metadata": {
    "id": "3PTDb00z1z35"
   },
   "source": [
    "# **Space Invaders RL**"
   ]
  },
  {
   "cell_type": "markdown",
   "metadata": {
    "id": "PuziVbiS15RI"
   },
   "source": [
    "## **Load and Install Dependencies**"
   ]
  },
  {
   "cell_type": "code",
   "execution_count": 2,
   "metadata": {
    "id": "lgwNslMqxUm9"
   },
   "outputs": [],
   "source": [
    "import gym\n",
    "import random"
   ]
  },
  {
   "cell_type": "code",
   "execution_count": 3,
   "metadata": {
    "id": "M4roQpp3w7_A"
   },
   "outputs": [],
   "source": [
    "env = gym.make('SpaceInvaders-v0')\n",
    "height, width, channels = env.observation_space.shape\n",
    "actions = env.action_space.n"
   ]
  },
  {
   "cell_type": "code",
   "execution_count": 4,
   "metadata": {
    "colab": {
     "base_uri": "https://localhost:8080/"
    },
    "id": "v8OsiWks1n45",
    "outputId": "f55e11ad-ff1e-419c-da1c-d175375db3a1"
   },
   "outputs": [
    {
     "data": {
      "text/plain": [
       "['NOOP', 'FIRE', 'RIGHT', 'LEFT', 'RIGHTFIRE', 'LEFTFIRE']"
      ]
     },
     "execution_count": 4,
     "metadata": {},
     "output_type": "execute_result"
    }
   ],
   "source": [
    "env.unwrapped.get_action_meanings()"
   ]
  },
  {
   "cell_type": "code",
   "execution_count": 6,
   "metadata": {
    "colab": {
     "base_uri": "https://localhost:8080/",
     "height": 380
    },
    "id": "eOI6EKP92TTa",
    "outputId": "1904b580-c57c-4aef-d0d9-1b1b614536ab"
   },
   "outputs": [
    {
     "name": "stdout",
     "output_type": "stream",
     "text": [
      "Episode:0 Score: 55.0\n",
      "Episode:1 Score: 230.0\n",
      "Episode:2 Score: 65.0\n",
      "Episode:3 Score: 215.0\n",
      "Episode:4 Score: 415.0\n"
     ]
    }
   ],
   "source": [
    "eps = 5\n",
    "for episode in range(eps):\n",
    "  state = env.reset()\n",
    "  done = False\n",
    "  score = 0\n",
    "\n",
    "  while not done:\n",
    "    env.render()\n",
    "    action = random.choice([0,1,2,3,4,5])\n",
    "    n_state, reward, done, info = env.step(action)\n",
    "    score += reward\n",
    "  print('Episode:{} Score: {}'.format(episode, score))\n",
    "env.close()"
   ]
  },
  {
   "cell_type": "code",
   "execution_count": 5,
   "metadata": {},
   "outputs": [],
   "source": [
    "import numpy as np\n",
    "from tensorflow.keras.models import Sequential\n",
    "from tensorflow.keras.layers import Dense, Flatten, Convolution2D\n",
    "from tensorflow.keras.optimizers import Adam"
   ]
  },
  {
   "cell_type": "code",
   "execution_count": 6,
   "metadata": {},
   "outputs": [],
   "source": [
    "def build_model(height, width, channels, actions):\n",
    "    model = Sequential()\n",
    "    model.add(Convolution2D(32,(8,8), strides=(4,4), activation='relu', input_shape=(3, height, width, channels)))\n",
    "    model.add(Convolution2D(64,(4,4), strides=(2,2), activation='relu'))\n",
    "    model.add(Convolution2D(64,(3,3), activation='relu'))\n",
    "    model.add(Flatten())\n",
    "    model.add(Dense(512, activation='relu'))\n",
    "    model.add(Dense(256, activation='relu'))\n",
    "    model.add(Dense(actions, activation='linear'))\n",
    "    return model"
   ]
  },
  {
   "cell_type": "code",
   "execution_count": 7,
   "metadata": {},
   "outputs": [
    {
     "name": "stdout",
     "output_type": "stream",
     "text": [
      "Model: \"sequential\"\n",
      "_________________________________________________________________\n",
      "Layer (type)                 Output Shape              Param #   \n",
      "=================================================================\n",
      "conv2d (Conv2D)              (None, 3, 51, 39, 32)     6176      \n",
      "_________________________________________________________________\n",
      "conv2d_1 (Conv2D)            (None, 3, 24, 18, 64)     32832     \n",
      "_________________________________________________________________\n",
      "conv2d_2 (Conv2D)            (None, 3, 22, 16, 64)     36928     \n",
      "_________________________________________________________________\n",
      "flatten (Flatten)            (None, 67584)             0         \n",
      "_________________________________________________________________\n",
      "dense (Dense)                (None, 512)               34603520  \n",
      "_________________________________________________________________\n",
      "dense_1 (Dense)              (None, 256)               131328    \n",
      "_________________________________________________________________\n",
      "dense_2 (Dense)              (None, 6)                 1542      \n",
      "=================================================================\n",
      "Total params: 34,812,326\n",
      "Trainable params: 34,812,326\n",
      "Non-trainable params: 0\n",
      "_________________________________________________________________\n"
     ]
    }
   ],
   "source": [
    "model = build_model(height, width, channels, actions)\n",
    "model.summary()"
   ]
  },
  {
   "cell_type": "code",
   "execution_count": 8,
   "metadata": {},
   "outputs": [],
   "source": [
    "from rl.agents import DQNAgent\n",
    "from rl.memory import SequentialMemory\n",
    "from rl.policy import LinearAnnealedPolicy, EpsGreedyQPolicy"
   ]
  },
  {
   "cell_type": "code",
   "execution_count": 9,
   "metadata": {},
   "outputs": [],
   "source": [
    "def build_agent(model, actions):\n",
    "    policy = LinearAnnealedPolicy(EpsGreedyQPolicy(), attr='eps', value_max=1., value_min=.1, value_test=.2, nb_steps=10000)\n",
    "    memory = SequentialMemory(limit=1000, window_length=3)\n",
    "    dqn = DQNAgent(model=model, memory=memory, policy=policy,\n",
    "                  enable_dueling_network=True, dueling_type='avg',\n",
    "                  nb_actions=actions, nb_steps_warmup=10000)\n",
    "    return dqn"
   ]
  },
  {
   "cell_type": "code",
   "execution_count": 11,
   "metadata": {},
   "outputs": [
    {
     "name": "stdout",
     "output_type": "stream",
     "text": [
      "Training for 10000 steps ...\n",
      " 1155/10000: episode: 1, duration: 307.809s, episode steps: 1155, steps per second:   4, episode reward: 415.000, mean reward:  0.359 [ 0.000, 200.000], mean action: 2.559 [0.000, 5.000],  loss: --, mean_q: --, mean_eps: --\n",
      " 2025/10000: episode: 2, duration: 227.855s, episode steps: 870, steps per second:   4, episode reward: 195.000, mean reward:  0.224 [ 0.000, 30.000], mean action: 2.828 [0.000, 5.000],  loss: --, mean_q: --, mean_eps: --\n",
      " 2421/10000: episode: 3, duration: 104.116s, episode steps: 396, steps per second:   4, episode reward: 60.000, mean reward:  0.152 [ 0.000, 15.000], mean action: 2.750 [0.000, 5.000],  loss: --, mean_q: --, mean_eps: --\n",
      " 2765/10000: episode: 4, duration: 91.659s, episode steps: 344, steps per second:   4, episode reward: 20.000, mean reward:  0.058 [ 0.000, 10.000], mean action: 2.881 [0.000, 5.000],  loss: --, mean_q: --, mean_eps: --\n",
      " 3645/10000: episode: 5, duration: 418.079s, episode steps: 880, steps per second:   2, episode reward: 80.000, mean reward:  0.091 [ 0.000, 25.000], mean action: 3.003 [0.000, 5.000],  loss: --, mean_q: --, mean_eps: --\n",
      " 4358/10000: episode: 6, duration: 358.408s, episode steps: 713, steps per second:   2, episode reward: 130.000, mean reward:  0.182 [ 0.000, 20.000], mean action: 3.126 [0.000, 5.000],  loss: --, mean_q: --, mean_eps: --\n",
      " 5155/10000: episode: 7, duration: 356.475s, episode steps: 797, steps per second:   2, episode reward: 100.000, mean reward:  0.125 [ 0.000, 20.000], mean action: 3.384 [0.000, 5.000],  loss: --, mean_q: --, mean_eps: --\n",
      " 6153/10000: episode: 8, duration: 375.404s, episode steps: 998, steps per second:   3, episode reward: 340.000, mean reward:  0.341 [ 0.000, 30.000], mean action: 3.412 [0.000, 5.000],  loss: --, mean_q: --, mean_eps: --\n",
      " 6481/10000: episode: 9, duration: 102.200s, episode steps: 328, steps per second:   3, episode reward: 30.000, mean reward:  0.091 [ 0.000, 10.000], mean action: 3.375 [0.000, 5.000],  loss: --, mean_q: --, mean_eps: --\n",
      " 7289/10000: episode: 10, duration: 367.749s, episode steps: 808, steps per second:   2, episode reward: 505.000, mean reward:  0.625 [ 0.000, 200.000], mean action: 3.597 [0.000, 5.000],  loss: --, mean_q: --, mean_eps: --\n",
      " 7969/10000: episode: 11, duration: 322.006s, episode steps: 680, steps per second:   2, episode reward: 95.000, mean reward:  0.140 [ 0.000, 15.000], mean action: 3.637 [0.000, 5.000],  loss: --, mean_q: --, mean_eps: --\n",
      " 8348/10000: episode: 12, duration: 133.545s, episode steps: 379, steps per second:   3, episode reward: 30.000, mean reward:  0.079 [ 0.000, 10.000], mean action: 3.792 [0.000, 5.000],  loss: --, mean_q: --, mean_eps: --\n",
      " 8681/10000: episode: 13, duration: 123.007s, episode steps: 333, steps per second:   3, episode reward: 10.000, mean reward:  0.030 [ 0.000,  5.000], mean action: 3.877 [0.000, 5.000],  loss: --, mean_q: --, mean_eps: --\n",
      " 9620/10000: episode: 14, duration: 267.360s, episode steps: 939, steps per second:   4, episode reward: 195.000, mean reward:  0.208 [ 0.000, 30.000], mean action: 4.032 [0.000, 5.000],  loss: --, mean_q: --, mean_eps: --\n",
      "done, took 3735.217 seconds\n"
     ]
    },
    {
     "data": {
      "text/plain": [
       "<keras.callbacks.History at 0x1e05146f668>"
      ]
     },
     "execution_count": 11,
     "metadata": {},
     "output_type": "execute_result"
    }
   ],
   "source": [
    "dqn = build_agent(model, actions)\n",
    "dqn.compile(Adam(lr=1e-4))\n",
    "dqn.fit(env, nb_steps=10000, visualize=False, verbose=2)"
   ]
  },
  {
   "cell_type": "code",
   "execution_count": 12,
   "metadata": {},
   "outputs": [
    {
     "name": "stdout",
     "output_type": "stream",
     "text": [
      "Testing for 10 episodes ...\n"
     ]
    },
    {
     "name": "stderr",
     "output_type": "stream",
     "text": [
      "C:\\Users\\user\\anaconda3\\envs\\courseenv\\lib\\site-packages\\gym\\envs\\atari\\environment.py:269: UserWarning: \u001b[33mWARN: We strongly suggest supplying `render_mode` when constructing your environment, e.g., gym.make(ID, render_mode='human'). Using `render_mode` provides access to proper scaling, audio support, and proper framerates.\u001b[0m\n",
      "  \"We strongly suggest supplying `render_mode` when \"\n",
      "C:\\Users\\user\\anaconda3\\envs\\courseenv\\lib\\site-packages\\pyglet\\image\\codecs\\wic.py:434: UserWarning: [WinError -2147417850] Cannot change thread mode after it is set\n",
      "  warnings.warn(str(err))\n"
     ]
    },
    {
     "name": "stdout",
     "output_type": "stream",
     "text": [
      "Episode 1: reward: 165.000, steps: 704\n",
      "Episode 2: reward: 130.000, steps: 648\n",
      "Episode 3: reward: 185.000, steps: 666\n",
      "Episode 4: reward: 175.000, steps: 688\n",
      "Episode 5: reward: 230.000, steps: 792\n",
      "Episode 6: reward: 130.000, steps: 708\n",
      "Episode 7: reward: 175.000, steps: 680\n",
      "Episode 8: reward: 335.000, steps: 815\n",
      "Episode 9: reward: 150.000, steps: 614\n",
      "Episode 10: reward: 520.000, steps: 1081\n",
      "219.5\n"
     ]
    }
   ],
   "source": [
    "scores =dqn.test(env, nb_episodes=10, visualize=True)\n",
    "print(np.mean(scores.history['episode_reward']))"
   ]
  },
  {
   "cell_type": "code",
   "execution_count": null,
   "metadata": {},
   "outputs": [],
   "source": []
  }
 ],
 "metadata": {
  "accelerator": "GPU",
  "colab": {
   "collapsed_sections": [],
   "name": "Space Invaders.ipynb",
   "provenance": []
  },
  "kernelspec": {
   "display_name": "courseenv",
   "language": "python",
   "name": "courseenv"
  },
  "language_info": {
   "codemirror_mode": {
    "name": "ipython",
    "version": 3
   },
   "file_extension": ".py",
   "mimetype": "text/x-python",
   "name": "python",
   "nbconvert_exporter": "python",
   "pygments_lexer": "ipython3",
   "version": "3.7.0"
  }
 },
 "nbformat": 4,
 "nbformat_minor": 1
}
